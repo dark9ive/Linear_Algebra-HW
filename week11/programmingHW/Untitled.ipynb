{
 "cells": [
  {
   "cell_type": "code",
   "execution_count": 3,
   "metadata": {},
   "outputs": [
    {
     "name": "stdout",
     "output_type": "stream",
     "text": [
      "Please insert deltax: 3\n",
      "Please insert deltay: 4\n",
      "Please insert x0: 0\n",
      "Please insert y0: 0\n"
     ]
    },
    {
     "data": {
      "image/png": "[encoded data removed]",
      "text/plain": [
       "<Figure size 432x288 with 1 Axes>"
      ]
     },
     "metadata": {},
     "output_type": "display_data"
    },
    {
     "name": "stdout",
     "output_type": "stream",
     "text": [
      "Please insert phi[0][0]: 5\n",
      "Please insert phi[0][1]: 5\n",
      "Please insert phi[1][0]: 5\n",
      "Please insert phi[1][1]: 5\n",
      "Please insert the unit(s) of x-direction transform: 20\n",
      "Please insert the unit(s) of y-direction transform: 0\n"
     ]
    },
    {
     "data": {
      "image/png": "[encoded data removed]",
      "text/plain": [
       "<Figure size 432x288 with 1 Axes>"
      ]
     },
     "metadata": {},
     "output_type": "display_data"
    },
    {
     "name": "stdout",
     "output_type": "stream",
     "text": [
      "[[ 5.  5. 20.]\n",
      " [ 5.  5.  0.]\n",
      " [ 0.  0.  1.]]\n"
     ]
    }
   ],
   "source": [
    "import numpy as npy\n",
    "import matplotlib.pyplot as plt\n",
    "import math\n",
    "\n",
    "def transform(a, b):            #    returns a 3x3 matrix  \n",
    "    returnval = npy.zeros(shape=(3, 3))\n",
    "    returnval = [[1, 0, a], [0, 1, b], [0, 0, 1]]\n",
    "    return returnval\n",
    "\n",
    "def rotate(theta):\n",
    "    theta = theta/360*math.pi*2\n",
    "    returnval = npy.zeros(shape=(3, 3))\n",
    "    returnval = [[math.cos(theta), -math.sin(theta), 0], [math.sin(theta), math.cos(theta), 0], [0, 0, 1]]\n",
    "    return returnval\n",
    "\n",
    "if __name__ == '__main__':\n",
    "    buf = 0\n",
    "    while(buf == 0):\n",
    "        deltax = float(input(\"Please insert deltax: \"))\n",
    "        deltay = float(input(\"Please insert deltay: \"))\n",
    "        buf = math.pow(deltax, 2)+math.pow(deltay, 2)\n",
    "    buf = math.pow(buf, 0.5)\n",
    "    deltax /= buf\n",
    "    deltay /= buf\n",
    "    x0 = float(input(\"Please insert x0: \"))\n",
    "    y0 = float(input(\"Please insert y0: \"))\n",
    "    \n",
    "    x = npy.linspace(x0-10*deltax, x0+10*deltax, 100)\n",
    "    y = npy.linspace(y0-10*deltay, y0+10*deltay, 100)\n",
    "    max_ = 0\n",
    "    \n",
    "    points = []            #    homogeneous coordinates array\n",
    "    \n",
    "    for i in range(0, 100):\n",
    "        plt.scatter(x[i], y[i], 20, 'r')\n",
    "        if(abs(x[i]) > max_):\n",
    "            max_ = abs(x[i])\n",
    "        if(abs(y[i]) > max_):\n",
    "            max_ = abs(y[i])\n",
    "        points.append([x[i], y[i], 1])\n",
    "    plt.xlim(-max_*1.2, max_*1.2)        #    re-range the chart\n",
    "    plt.ylim(-max_*1.2, max_*1.2)        #    re-range the chart\n",
    "    plt.plot([0, 0], [-max_*1.2, max_*1.2])        #    draw the y-axis\n",
    "    plt.plot([-max_*1.2, max_*1.2], [0, 0])        #    draw the x-axis\n",
    "    \n",
    "    plt.show()\n",
    "    \n",
    "    ############    Part 1 finished.    ############\n",
    "\n",
    "    phi = npy.eye(3)\n",
    "    for a in range(0, 2):\n",
    "        for b in range(0, 2):\n",
    "            phi[a][b] = float(input(\"Please insert phi[\" + str(a) + \"][\" + str(b) + \"]: \"))\n",
    "\n",
    "    deltax = float(input(\"Please insert the unit(s) of x-direction transform: \"))\n",
    "    deltay = float(input(\"Please insert the unit(s) of y-direction transform: \"))\n",
    "    \n",
    "    transform_matrix = npy.eye(3)       #    Identity matrix \n",
    "    transform_matrix = transform_matrix.dot(transform(deltax, deltay))       #    transform every points by x+0, y-5.\n",
    "    transform_matrix = transform_matrix.dot(phi)             #    rotate every points about (0, 0) for 45 degrees.\n",
    "    \n",
    "    for i in range(0, 100):\n",
    "        plt.scatter(x[i], y[i], 20, 'r')\n",
    "    \n",
    "    for point in points:\n",
    "        point = transform_matrix.dot(point)\n",
    "        plt.scatter(point[0], point[1], 20, 'b')\n",
    "        if(abs(point[0]) > max_):\n",
    "            max_ = abs(point[0])\n",
    "        if(abs(point[1]) > max_):\n",
    "            max_ = abs(point[1])\n",
    "    \n",
    "    plt.xlim(-max_*1.2, max_*1.2)        #    re-range the chart\n",
    "    plt.ylim(-max_*1.2, max_*1.2)        #    re-range the chart\n",
    "    plt.plot([0, 0], [-max_*1.2, max_*1.2])        #    draw the y-axis\n",
    "    plt.plot([-max_*1.2, max_*1.2], [0, 0])        #    draw the x-axis\n",
    "    plt.show()\n",
    "    \n",
    "    ############    Part 2 finished.    ############\n",
    "    \n",
    "    print(transform_matrix)\n"
   ]
  },
  {
   "cell_type": "code",
   "execution_count": 4,
   "metadata": {},
   "outputs": [
    {
     "name": "stdout",
     "output_type": "stream",
     "text": [
      "Please insert deltax: 3\n",
      "Please insert deltay: 4\n",
      "Please insert x0: 0\n",
      "Please insert y0: 0\n"
     ]
    },
    {
     "data": {
      "image/png": "[encoded data removed]",
      "text/plain": [
       "<Figure size 432x288 with 1 Axes>"
      ]
     },
     "metadata": {},
     "output_type": "display_data"
    },
    {
     "name": "stdout",
     "output_type": "stream",
     "text": [
      "Please insert phi[0][0]: 5\n",
      "Please insert phi[0][1]: 5\n",
      "Please insert phi[1][0]: 5\n",
      "Please insert phi[1][1]: 5\n",
      "Please insert the unit(s) of x-direction transform: 0\n",
      "Please insert the unit(s) of y-direction transform: 0\n"
     ]
    },
    {
     "data": {
      "image/png": "[encoded data removed]",
      "text/plain": [
       "<Figure size 432x288 with 1 Axes>"
      ]
     },
     "metadata": {},
     "output_type": "display_data"
    },
    {
     "name": "stdout",
     "output_type": "stream",
     "text": [
      "[[5. 5. 0.]\n",
      " [5. 5. 0.]\n",
      " [0. 0. 1.]]\n"
     ]
    }
   ],
   "source": [
    "import numpy as npy\n",
    "import matplotlib.pyplot as plt\n",
    "import math\n",
    "\n",
    "def transform(a, b):            #    returns a 3x3 matrix  \n",
    "    returnval = npy.zeros(shape=(3, 3))\n",
    "    returnval = [[1, 0, a], [0, 1, b], [0, 0, 1]]\n",
    "    return returnval\n",
    "\n",
    "def rotate(theta):\n",
    "    theta = theta/360*math.pi*2\n",
    "    returnval = npy.zeros(shape=(3, 3))\n",
    "    returnval = [[math.cos(theta), -math.sin(theta), 0], [math.sin(theta), math.cos(theta), 0], [0, 0, 1]]\n",
    "    return returnval\n",
    "\n",
    "if __name__ == '__main__':\n",
    "    buf = 0\n",
    "    while(buf == 0):\n",
    "        deltax = float(input(\"Please insert deltax: \"))\n",
    "        deltay = float(input(\"Please insert deltay: \"))\n",
    "        buf = math.pow(deltax, 2)+math.pow(deltay, 2)\n",
    "    buf = math.pow(buf, 0.5)\n",
    "    deltax /= buf\n",
    "    deltay /= buf\n",
    "    x0 = float(input(\"Please insert x0: \"))\n",
    "    y0 = float(input(\"Please insert y0: \"))\n",
    "    \n",
    "    x = npy.linspace(x0-10*deltax, x0+10*deltax, 100)\n",
    "    y = npy.linspace(y0-10*deltay, y0+10*deltay, 100)\n",
    "    max_ = 0\n",
    "    \n",
    "    points = []            #    homogeneous coordinates array\n",
    "    \n",
    "    for i in range(0, 100):\n",
    "        plt.scatter(x[i], y[i], 20, 'r')\n",
    "        if(abs(x[i]) > max_):\n",
    "            max_ = abs(x[i])\n",
    "        if(abs(y[i]) > max_):\n",
    "            max_ = abs(y[i])\n",
    "        points.append([x[i], y[i], 1])\n",
    "    plt.xlim(-max_*1.2, max_*1.2)        #    re-range the chart\n",
    "    plt.ylim(-max_*1.2, max_*1.2)        #    re-range the chart\n",
    "    plt.plot([0, 0], [-max_*1.2, max_*1.2])        #    draw the y-axis\n",
    "    plt.plot([-max_*1.2, max_*1.2], [0, 0])        #    draw the x-axis\n",
    "    \n",
    "    plt.show()\n",
    "    \n",
    "    ############    Part 1 finished.    ############\n",
    "\n",
    "    phi = npy.eye(3)\n",
    "    for a in range(0, 2):\n",
    "        for b in range(0, 2):\n",
    "            phi[a][b] = float(input(\"Please insert phi[\" + str(a) + \"][\" + str(b) + \"]: \"))\n",
    "\n",
    "    deltax = float(input(\"Please insert the unit(s) of x-direction transform: \"))\n",
    "    deltay = float(input(\"Please insert the unit(s) of y-direction transform: \"))\n",
    "    \n",
    "    transform_matrix = npy.eye(3)       #    Identity matrix \n",
    "    transform_matrix = transform_matrix.dot(transform(deltax, deltay))       #    transform every points by x+0, y-5.\n",
    "    transform_matrix = transform_matrix.dot(phi)             #    rotate every points about (0, 0) for 45 degrees.\n",
    "    \n",
    "    for i in range(0, 100):\n",
    "        plt.scatter(x[i], y[i], 20, 'r')\n",
    "    \n",
    "    for point in points:\n",
    "        point = transform_matrix.dot(point)\n",
    "        plt.scatter(point[0], point[1], 20, 'b')\n",
    "        if(abs(point[0]) > max_):\n",
    "            max_ = abs(point[0])\n",
    "        if(abs(point[1]) > max_):\n",
    "            max_ = abs(point[1])\n",
    "    \n",
    "    plt.xlim(-max_*1.2, max_*1.2)        #    re-range the chart\n",
    "    plt.ylim(-max_*1.2, max_*1.2)        #    re-range the chart\n",
    "    plt.plot([0, 0], [-max_*1.2, max_*1.2])        #    draw the y-axis\n",
    "    plt.plot([-max_*1.2, max_*1.2], [0, 0])        #    draw the x-axis\n",
    "    plt.show()\n",
    "    \n",
    "    ############    Part 2 finished.    ############\n",
    "    \n",
    "    print(transform_matrix)\n"
   ]
  },
  {
   "cell_type": "code",
   "execution_count": null,
   "metadata": {},
   "outputs": [],
   "source": []
  }
 ],
 "metadata": {
  "kernelspec": {
   "display_name": "Python 3",
   "language": "python",
   "name": "python3"
  },
  "language_info": {
   "codemirror_mode": {
    "name": "ipython",
    "version": 3
   },
   "file_extension": ".py",
   "mimetype": "text/x-python",
   "name": "python",
   "nbconvert_exporter": "python",
   "pygments_lexer": "ipython3",
   "version": "3.6.9"
  }
 },
 "nbformat": 4,
 "nbformat_minor": 2
}
